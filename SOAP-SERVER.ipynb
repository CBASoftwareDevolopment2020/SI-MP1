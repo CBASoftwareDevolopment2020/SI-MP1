{
 "cells": [
  {
   "cell_type": "code",
   "execution_count": 30,
   "metadata": {},
   "outputs": [
    {
     "name": "stderr",
     "output_type": "stream",
     "text": [
      "Overwriting application ('spyne.examples.hello.http', 'Application')(<spyne.application.Application object at 0x000001C940C18C50>).\n"
     ]
    },
    {
     "name": "stdout",
     "output_type": "stream",
     "text": [
      "listening to http://127.0.0.1:8182\n",
      "wsdl is at: http://localhost:8182/?wsdl\n"
     ]
    },
    {
     "name": "stderr",
     "output_type": "stream",
     "text": [
      "127.0.0.1 - - [21/Sep/2020 12:56:25] \"GET /?wsdl HTTP/1.1\" 200 4173\n",
      "127.0.0.1 - - [21/Sep/2020 12:56:44] \"POST / HTTP/1.1\" 200 330\n",
      "127.0.0.1 - - [21/Sep/2020 12:56:50] \"POST / HTTP/1.1\" 200 330\n",
      "127.0.0.1 - - [21/Sep/2020 12:56:53] \"POST / HTTP/1.1\" 200 330\n",
      "127.0.0.1 - - [21/Sep/2020 12:56:55] \"POST / HTTP/1.1\" 200 330\n",
      "127.0.0.1 - - [21/Sep/2020 12:56:58] \"POST / HTTP/1.1\" 200 330\n",
      "127.0.0.1 - - [21/Sep/2020 12:57:01] \"POST / HTTP/1.1\" 200 330\n",
      "127.0.0.1 - - [21/Sep/2020 12:57:04] \"POST / HTTP/1.1\" 200 330\n",
      "127.0.0.1 - - [21/Sep/2020 12:57:06] \"POST / HTTP/1.1\" 200 330\n",
      "127.0.0.1 - - [21/Sep/2020 12:57:09] \"POST / HTTP/1.1\" 200 330\n",
      "127.0.0.1 - - [21/Sep/2020 12:57:11] \"POST / HTTP/1.1\" 200 330\n",
      "127.0.0.1 - - [21/Sep/2020 13:00:09] \"POST / HTTP/1.1\" 200 330\n",
      "127.0.0.1 - - [21/Sep/2020 13:00:16] \"POST / HTTP/1.1\" 200 330\n",
      "127.0.0.1 - - [21/Sep/2020 13:00:27] \"POST / HTTP/1.1\" 200 330\n",
      "127.0.0.1 - - [21/Sep/2020 13:00:35] \"POST / HTTP/1.1\" 200 331\n",
      "127.0.0.1 - - [21/Sep/2020 13:00:48] \"POST / HTTP/1.1\" 200 330\n",
      "127.0.0.1 - - [21/Sep/2020 13:00:53] \"POST / HTTP/1.1\" 200 331\n",
      "127.0.0.1 - - [21/Sep/2020 13:01:03] \"POST / HTTP/1.1\" 200 330\n",
      "127.0.0.1 - - [21/Sep/2020 13:01:26] \"POST / HTTP/1.1\" 200 331\n",
      "127.0.0.1 - - [21/Sep/2020 13:03:46] \"POST / HTTP/1.1\" 200 331\n",
      "127.0.0.1 - - [21/Sep/2020 13:03:48] \"POST / HTTP/1.1\" 200 451\n",
      "127.0.0.1 - - [21/Sep/2020 13:03:54] \"POST / HTTP/1.1\" 200 331\n",
      "127.0.0.1 - - [21/Sep/2020 13:03:56] \"POST / HTTP/1.1\" 200 487\n",
      "127.0.0.1 - - [21/Sep/2020 13:04:55] \"POST / HTTP/1.1\" 200 331\n",
      "127.0.0.1 - - [21/Sep/2020 13:04:57] \"POST / HTTP/1.1\" 200 607\n"
     ]
    },
    {
     "ename": "KeyboardInterrupt",
     "evalue": "",
     "output_type": "error",
     "traceback": [
      "\u001b[1;31m---------------------------------------------------------------------------\u001b[0m",
      "\u001b[1;31mKeyboardInterrupt\u001b[0m                         Traceback (most recent call last)",
      "\u001b[1;32m<ipython-input-30-015b51027a7b>\u001b[0m in \u001b[0;36m<module>\u001b[1;34m\u001b[0m\n\u001b[0;32m     51\u001b[0m \u001b[0mprint\u001b[0m\u001b[1;33m(\u001b[0m\u001b[1;34m\"wsdl is at: http://localhost:\"\u001b[0m  \u001b[1;33m+\u001b[0m \u001b[0mstr\u001b[0m\u001b[1;33m(\u001b[0m\u001b[0mport\u001b[0m\u001b[1;33m)\u001b[0m \u001b[1;33m+\u001b[0m \u001b[1;34m\"/?wsdl\"\u001b[0m\u001b[1;33m)\u001b[0m\u001b[1;33m\u001b[0m\u001b[1;33m\u001b[0m\u001b[0m\n\u001b[0;32m     52\u001b[0m \u001b[1;31m# Start the server\u001b[0m\u001b[1;33m\u001b[0m\u001b[1;33m\u001b[0m\u001b[1;33m\u001b[0m\u001b[0m\n\u001b[1;32m---> 53\u001b[1;33m \u001b[0mserver\u001b[0m\u001b[1;33m.\u001b[0m\u001b[0mserve_forever\u001b[0m\u001b[1;33m(\u001b[0m\u001b[1;33m)\u001b[0m\u001b[1;33m\u001b[0m\u001b[1;33m\u001b[0m\u001b[0m\n\u001b[0m",
      "\u001b[1;32m~\\Anaconda3\\lib\\socketserver.py\u001b[0m in \u001b[0;36mserve_forever\u001b[1;34m(self, poll_interval)\u001b[0m\n\u001b[0;32m    230\u001b[0m \u001b[1;33m\u001b[0m\u001b[0m\n\u001b[0;32m    231\u001b[0m                 \u001b[1;32mwhile\u001b[0m \u001b[1;32mnot\u001b[0m \u001b[0mself\u001b[0m\u001b[1;33m.\u001b[0m\u001b[0m__shutdown_request\u001b[0m\u001b[1;33m:\u001b[0m\u001b[1;33m\u001b[0m\u001b[1;33m\u001b[0m\u001b[0m\n\u001b[1;32m--> 232\u001b[1;33m                     \u001b[0mready\u001b[0m \u001b[1;33m=\u001b[0m \u001b[0mselector\u001b[0m\u001b[1;33m.\u001b[0m\u001b[0mselect\u001b[0m\u001b[1;33m(\u001b[0m\u001b[0mpoll_interval\u001b[0m\u001b[1;33m)\u001b[0m\u001b[1;33m\u001b[0m\u001b[1;33m\u001b[0m\u001b[0m\n\u001b[0m\u001b[0;32m    233\u001b[0m                     \u001b[1;31m# bpo-35017: shutdown() called during select(), exit immediately.\u001b[0m\u001b[1;33m\u001b[0m\u001b[1;33m\u001b[0m\u001b[1;33m\u001b[0m\u001b[0m\n\u001b[0;32m    234\u001b[0m                     \u001b[1;32mif\u001b[0m \u001b[0mself\u001b[0m\u001b[1;33m.\u001b[0m\u001b[0m__shutdown_request\u001b[0m\u001b[1;33m:\u001b[0m\u001b[1;33m\u001b[0m\u001b[1;33m\u001b[0m\u001b[0m\n",
      "\u001b[1;32m~\\Anaconda3\\lib\\selectors.py\u001b[0m in \u001b[0;36mselect\u001b[1;34m(self, timeout)\u001b[0m\n\u001b[0;32m    321\u001b[0m         \u001b[0mready\u001b[0m \u001b[1;33m=\u001b[0m \u001b[1;33m[\u001b[0m\u001b[1;33m]\u001b[0m\u001b[1;33m\u001b[0m\u001b[1;33m\u001b[0m\u001b[0m\n\u001b[0;32m    322\u001b[0m         \u001b[1;32mtry\u001b[0m\u001b[1;33m:\u001b[0m\u001b[1;33m\u001b[0m\u001b[1;33m\u001b[0m\u001b[0m\n\u001b[1;32m--> 323\u001b[1;33m             \u001b[0mr\u001b[0m\u001b[1;33m,\u001b[0m \u001b[0mw\u001b[0m\u001b[1;33m,\u001b[0m \u001b[0m_\u001b[0m \u001b[1;33m=\u001b[0m \u001b[0mself\u001b[0m\u001b[1;33m.\u001b[0m\u001b[0m_select\u001b[0m\u001b[1;33m(\u001b[0m\u001b[0mself\u001b[0m\u001b[1;33m.\u001b[0m\u001b[0m_readers\u001b[0m\u001b[1;33m,\u001b[0m \u001b[0mself\u001b[0m\u001b[1;33m.\u001b[0m\u001b[0m_writers\u001b[0m\u001b[1;33m,\u001b[0m \u001b[1;33m[\u001b[0m\u001b[1;33m]\u001b[0m\u001b[1;33m,\u001b[0m \u001b[0mtimeout\u001b[0m\u001b[1;33m)\u001b[0m\u001b[1;33m\u001b[0m\u001b[1;33m\u001b[0m\u001b[0m\n\u001b[0m\u001b[0;32m    324\u001b[0m         \u001b[1;32mexcept\u001b[0m \u001b[0mInterruptedError\u001b[0m\u001b[1;33m:\u001b[0m\u001b[1;33m\u001b[0m\u001b[1;33m\u001b[0m\u001b[0m\n\u001b[0;32m    325\u001b[0m             \u001b[1;32mreturn\u001b[0m \u001b[0mready\u001b[0m\u001b[1;33m\u001b[0m\u001b[1;33m\u001b[0m\u001b[0m\n",
      "\u001b[1;32m~\\Anaconda3\\lib\\selectors.py\u001b[0m in \u001b[0;36m_select\u001b[1;34m(self, r, w, _, timeout)\u001b[0m\n\u001b[0;32m    312\u001b[0m     \u001b[1;32mif\u001b[0m \u001b[0msys\u001b[0m\u001b[1;33m.\u001b[0m\u001b[0mplatform\u001b[0m \u001b[1;33m==\u001b[0m \u001b[1;34m'win32'\u001b[0m\u001b[1;33m:\u001b[0m\u001b[1;33m\u001b[0m\u001b[1;33m\u001b[0m\u001b[0m\n\u001b[0;32m    313\u001b[0m         \u001b[1;32mdef\u001b[0m \u001b[0m_select\u001b[0m\u001b[1;33m(\u001b[0m\u001b[0mself\u001b[0m\u001b[1;33m,\u001b[0m \u001b[0mr\u001b[0m\u001b[1;33m,\u001b[0m \u001b[0mw\u001b[0m\u001b[1;33m,\u001b[0m \u001b[0m_\u001b[0m\u001b[1;33m,\u001b[0m \u001b[0mtimeout\u001b[0m\u001b[1;33m=\u001b[0m\u001b[1;32mNone\u001b[0m\u001b[1;33m)\u001b[0m\u001b[1;33m:\u001b[0m\u001b[1;33m\u001b[0m\u001b[1;33m\u001b[0m\u001b[0m\n\u001b[1;32m--> 314\u001b[1;33m             \u001b[0mr\u001b[0m\u001b[1;33m,\u001b[0m \u001b[0mw\u001b[0m\u001b[1;33m,\u001b[0m \u001b[0mx\u001b[0m \u001b[1;33m=\u001b[0m \u001b[0mselect\u001b[0m\u001b[1;33m.\u001b[0m\u001b[0mselect\u001b[0m\u001b[1;33m(\u001b[0m\u001b[0mr\u001b[0m\u001b[1;33m,\u001b[0m \u001b[0mw\u001b[0m\u001b[1;33m,\u001b[0m \u001b[0mw\u001b[0m\u001b[1;33m,\u001b[0m \u001b[0mtimeout\u001b[0m\u001b[1;33m)\u001b[0m\u001b[1;33m\u001b[0m\u001b[1;33m\u001b[0m\u001b[0m\n\u001b[0m\u001b[0;32m    315\u001b[0m             \u001b[1;32mreturn\u001b[0m \u001b[0mr\u001b[0m\u001b[1;33m,\u001b[0m \u001b[0mw\u001b[0m \u001b[1;33m+\u001b[0m \u001b[0mx\u001b[0m\u001b[1;33m,\u001b[0m \u001b[1;33m[\u001b[0m\u001b[1;33m]\u001b[0m\u001b[1;33m\u001b[0m\u001b[1;33m\u001b[0m\u001b[0m\n\u001b[0;32m    316\u001b[0m     \u001b[1;32melse\u001b[0m\u001b[1;33m:\u001b[0m\u001b[1;33m\u001b[0m\u001b[1;33m\u001b[0m\u001b[0m\n",
      "\u001b[1;31mKeyboardInterrupt\u001b[0m: "
     ]
    }
   ],
   "source": [
    "from spyne.application import Application\n",
    "from spyne.decorator import srpc\n",
    "from spyne.service import ServiceBase\n",
    "\n",
    "from spyne.model.complex import Iterable\n",
    "from spyne.model.primitive import UnsignedInteger\n",
    "from spyne.model.primitive import String\n",
    "\n",
    "from spyne.server.wsgi import WsgiApplication\n",
    "from wsgiref.simple_server import make_server\n",
    "\n",
    "import random\n",
    "\n",
    "\n",
    "\n",
    "class HelloWorldService(ServiceBase):\n",
    "    @srpc(String, _returns=Iterable(String))\n",
    "    def say_hello(name):\n",
    "        for i in range(len(name)):\n",
    "            yield \"Hello \" + name + \"!\"   \n",
    "            \n",
    "    @srpc(UnsignedInteger, UnsignedInteger, _returns=UnsignedInteger)\n",
    "    def magic_number_hat(low, high):\n",
    "        return random.randint(low, high)\n",
    "            \n",
    "            \n",
    "\n",
    "app = Application(\n",
    "    [HelloWorldService],\n",
    "    'spyne.examples.hello.http',\n",
    "    in_protocol=Soap11(validator='lxml'),\n",
    "    out_protocol=Soap11(),\n",
    ")\n",
    "wsgi_app = WsgiApplication(app)\n",
    "\n",
    "\n",
    "port = 8182\n",
    "server = make_server('127.0.0.1', port, wsgi_app)\n",
    "\n",
    "print(\"listening to http://127.0.0.1:\" + str(port))\n",
    "print(\"wsdl is at: http://localhost:\"  + str(port) + \"/?wsdl\")\n",
    "# Start the server\n",
    "server.serve_forever()"
   ]
  }
 ],
 "metadata": {
  "kernelspec": {
   "display_name": "Python 3",
   "language": "python",
   "name": "python3"
  },
  "language_info": {
   "codemirror_mode": {
    "name": "ipython",
    "version": 3
   },
   "file_extension": ".py",
   "mimetype": "text/x-python",
   "name": "python",
   "nbconvert_exporter": "python",
   "pygments_lexer": "ipython3",
   "version": "3.7.3"
  }
 },
 "nbformat": 4,
 "nbformat_minor": 2
}
