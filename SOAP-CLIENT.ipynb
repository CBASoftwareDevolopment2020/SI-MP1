{
 "cells": [
  {
   "cell_type": "code",
   "execution_count": 38,
   "metadata": {},
   "outputs": [],
   "source": [
    "from zeep import Client\n",
    "port = 8182\n",
    "client = Client('http://localhost:'+ str(port) + \"/?wsdl\")"
   ]
  },
  {
   "cell_type": "code",
   "execution_count": 59,
   "metadata": {},
   "outputs": [
    {
     "name": "stdout",
     "output_type": "stream",
     "text": [
      "Palpatine\n",
      "Palpatine\n",
      "Palpatine\n",
      "Palpatine\n",
      "Palpatine\n",
      "Palpatine\n",
      "Palpatine\n",
      "Palpatine\n",
      "Palpatine\n"
     ]
    }
   ],
   "source": [
    "import requests\n",
    "\n",
    "numb = client.service.magic_number_hat(low=1, high=30)\n",
    "\n",
    "url = \"https://swapi.dev/api/people/\" + str(numb)\n",
    "\n",
    "resp = requests.get(url)\n",
    "\n",
    "if resp.status_code != 200:\n",
    "    print(\"nooooooooooooooooooooooooooo\")\n",
    "else:\n",
    "    r = resp.json()[\"name\"]\n",
    "    r = client.service.say_hello(name=r)\n",
    "    print(*r, sep=\"\\n\")"
   ]
  }
 ],
 "metadata": {
  "kernelspec": {
   "display_name": "Python 3",
   "language": "python",
   "name": "python3"
  }
 },
 "nbformat": 4,
 "nbformat_minor": 2
}
